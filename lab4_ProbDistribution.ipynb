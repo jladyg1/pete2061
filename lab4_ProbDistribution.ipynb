{
 "cells": [
  {
   "cell_type": "markdown",
   "metadata": {
    "colab_type": "text",
    "id": "view-in-github"
   },
   "source": [
    "<a href=\"https://colab.research.google.com/github/lsuhpchelp/lbrnloniworkshop2019/blob/master/day1_python/intro_python.ipynb\" target=\"_parent\"><img src=\"https://colab.research.google.com/assets/colab-badge.svg\" alt=\"Open In Colab\"/></a>"
   ]
  },
  {
   "cell_type": "markdown",
   "metadata": {
    "colab_type": "text",
    "id": "u1YDPNtbdHDj"
   },
   "source": [
    "\n",
    " #  Numpy Arrays and Loops\n",
    "\n",
    "## PETE 2061 Lab 3\n",
    "\n",
    "<a id='top'></a>"
   ]
  },
  {
   "cell_type": "markdown",
   "metadata": {
    "colab_type": "text",
    "id": "VB--CYOSdHDm"
   },
   "source": [
    "<a id='overview'></a>\n",
    "# Topics Covered\n",
    "<font color=blue>\n",
    " * [Hello world!](#helloworld) \n",
    " * [Comments in Python](#comments)\n",
    " * [Variables](#variables)\n",
    " * [Operators](#operators)    \n",
    " * [Python programming basics](#data-type)\n",
    " * [Control structures and functions](#control)\n",
    " * [Python modules](#module)\n",
    " * [Numpy](#numpy)\n",
    " * [Plotting](#plot)</font>\n",
    "<br>"
   ]
  },
  {
   "cell_type": "markdown",
   "metadata": {
    "colab_type": "text",
    "id": "DqzfTKX_dHDq"
   },
   "source": [
    "<a id='data-type'></a>\n",
    "## Build-in Data Types   \n",
    "<font color=blue>\n",
    "* [Number](#numbers)\n",
    "* [String](#string)\n",
    "* [List](#list)\n",
    "* [Tuple](#tuple)\n",
    "* [Dictionary](#dic)\n",
    "* [File](#file)    \n",
    " </font>\n",
    " [top](#top)"
   ]
  },
  {
   "cell_type": "code",
   "execution_count": 0,
   "metadata": {
    "colab": {},
    "colab_type": "code",
    "id": "on_o62WTdHEt"
   },
   "outputs": [],
   "source": [
    "# iterate list elements\n",
    "animals = ['dog','cat','horse']\n",
    "for name in animals:\n",
    "    print(name)"
   ]
  },
  {
   "cell_type": "code",
   "execution_count": 0,
   "metadata": {
    "colab": {},
    "colab_type": "code",
    "id": "iCKHMWDNdHEv"
   },
   "outputs": [],
   "source": [
    "for index, name in enumerate(animals):\n",
    "    print(index+1, name)"
   ]
  },
  {
   "cell_type": "code",
   "execution_count": 0,
   "metadata": {
    "colab": {},
    "colab_type": "code",
    "id": "FJIrrjo4dHEx"
   },
   "outputs": [],
   "source": [
    "# modify list\n",
    "del my_list[0]; print(my_list)\n",
    "my_list.append(99); print(my_list)\n",
    "my_list.insert(1, 100); print(my_list)"
   ]
  },
  {
   "cell_type": "code",
   "execution_count": 0,
   "metadata": {
    "colab": {},
    "colab_type": "code",
    "id": "Sbs8IVSfdHEy"
   },
   "outputs": [],
   "source": [
    "#some list funs\n",
    "\n",
    "my_list.sort(); print(my_list)\n",
    "my_list.reverse(); print(my_list)"
   ]
  },
  {
   "cell_type": "code",
   "execution_count": 0,
   "metadata": {
    "colab": {},
    "colab_type": "code",
    "id": "NQUYj0__dHE1"
   },
   "outputs": [],
   "source": [
    "#more sorting\n",
    "my_list = ['cats', 'SHEEP','DOGS','horses']\n",
    "print(sorted(my_list, key=len))\n",
    "print(sorted(my_list))\n",
    "print(sorted(my_list, reverse=True))"
   ]
  },
  {
   "cell_type": "code",
   "execution_count": 0,
   "metadata": {
    "colab": {},
    "colab_type": "code",
    "id": "U8d5KvgTdHE5"
   },
   "outputs": [],
   "source": [
    "sorted(my_list, key=len)"
   ]
  },
  {
   "cell_type": "code",
   "execution_count": 0,
   "metadata": {
    "colab": {},
    "colab_type": "code",
    "id": "RzRA23WMdHE7"
   },
   "outputs": [],
   "source": [
    "# sort by lowercase\n",
    "sorted(my_list, key=str.lower)"
   ]
  },
  {
   "cell_type": "code",
   "execution_count": 0,
   "metadata": {
    "colab": {},
    "colab_type": "code",
    "id": "300FFfyxdHE9"
   },
   "outputs": [],
   "source": [
    "#list comprehension [expr for var in list]\n",
    "my_list=[2,5,9,1]\n",
    "square = [x**2 for x in my_list]; print(\"square =\", square)\n",
    "large = [n for n in my_list if n >= 5]; print('large =',large)"
   ]
  },
  {
   "cell_type": "code",
   "execution_count": 0,
   "metadata": {
    "colab": {},
    "colab_type": "code",
    "id": "9gcG6o9NdHFG"
   },
   "outputs": [],
   "source": [
    "my_dict = {'cats': 4, 'dogs':2, 'sheep':3}\n",
    "print(my_dict)"
   ]
  },
  {
   "cell_type": "code",
   "execution_count": 0,
   "metadata": {
    "colab": {},
    "colab_type": "code",
    "id": "zsD9iVhudHFT"
   },
   "outputs": [],
   "source": [
    "for key, value in my_dict.items():\n",
    "    print(key, value)"
   ]
  },
  {
   "cell_type": "markdown",
   "metadata": {
    "colab_type": "text",
    "id": "Rqz5LcVEdHFX"
   },
   "source": [
    "<a id='file'></a>\n",
    "## Files\n",
    "* file open, close, read, write\n",
    "* file_handle = open(“file_name”, ‘mode’)\n",
    "    * Modes: \n",
    "    * a: append\n",
    "    * r: read only (error if not existing)\n",
    "    * w: write only\n",
    "    * r+: read/write (error if not existing)\n",
    "    * w+: read/write\n",
    "    * b: binary\n",
    "* Python has a built-in garbage collector\n",
    "* Object memory space is auto reclaimed once a file is no longer in use \n",
    "    "
   ]
  },
  {
   "cell_type": "code",
   "execution_count": 0,
   "metadata": {
    "colab": {},
    "colab_type": "code",
    "id": "Vyss2yB8ptAk"
   },
   "outputs": [],
   "source": [
    "! if [ ! -f \"data.txt\" ]; then wget 'https://raw.githubusercontent.com/lsuhpchelp/lbrnloniworkshop2018/master/day2_python/data.txt'; else echo 'file exists'; fi;"
   ]
  },
  {
   "cell_type": "code",
   "execution_count": 0,
   "metadata": {
    "colab": {},
    "colab_type": "code",
    "id": "gV_4i_lqdHFX"
   },
   "outputs": [],
   "source": [
    "input = open('data.txt', 'r')\n",
    "content = input.read()\n",
    "input.close()\n",
    "print(content)"
   ]
  },
  {
   "cell_type": "code",
   "execution_count": 0,
   "metadata": {
    "colab": {},
    "colab_type": "code",
    "id": "XhJGF4bRdHFZ"
   },
   "outputs": [],
   "source": [
    "#write to a file\n",
    "output = open('write.txt','w')\n",
    "output.write(\"Writing to a file\")\n",
    "output.close()\n",
    "!ls -l\n"
   ]
  },
  {
   "cell_type": "markdown",
   "metadata": {
    "colab_type": "text",
    "id": "sYQs3O-6dHFb"
   },
   "source": [
    "<a id='control'></a>\n",
    "## Control Structures \n",
    "<font color=blue>\n",
    "* if-else\n",
    "* for loops, while loops\n",
    "* break: jump out of the current loop\n",
    "* continue: jump to the top of next cycle within the loop\n",
    "* pass: do nothing \n",
    "</font> \n",
    "[top](#top)"
   ]
  },
  {
   "cell_type": "code",
   "execution_count": 0,
   "metadata": {
    "colab": {},
    "colab_type": "code",
    "id": "827UT2CkdHFb"
   },
   "outputs": [],
   "source": [
    "x = 500 #input(\"Please enter a number\")\n",
    "if ( x >= 5 ):\n",
    "  print(x,\"> 5\")\n",
    "  print(\"Hi, greater than 5\")\n",
    "else:\n",
    "    print(x, \"< 5\")\n",
    "    "
   ]
  },
  {
   "cell_type": "code",
   "execution_count": 0,
   "metadata": {
    "colab": {},
    "colab_type": "code",
    "id": "lpkNCkpFdHFd"
   },
   "outputs": [],
   "source": [
    "\n",
    "for num in range(3):\n",
    "    print(num)"
   ]
  },
  {
   "cell_type": "code",
   "execution_count": 0,
   "metadata": {
    "colab": {},
    "colab_type": "code",
    "id": "5Uwjvz8ndHFf"
   },
   "outputs": [],
   "source": [
    "index=0\n",
    "while (index < 3):\n",
    "    print(index)\n",
    "    index = index + 2"
   ]
  },
  {
   "cell_type": "markdown",
   "metadata": {
    "colab_type": "text",
    "id": "kdPGwgCQdHFg"
   },
   "source": [
    "<div class='alert alert-block alert-danger'>  Tip: <div>\n",
    "Indentation: signify code blocks  <div>"
   ]
  },
  {
   "cell_type": "code",
   "execution_count": 0,
   "metadata": {
    "colab": {},
    "colab_type": "code",
    "id": "ywVAPehHdHFh"
   },
   "outputs": [],
   "source": [
    "#prime numbers\n",
    "n = 2\n",
    "while n < 10:\n",
    "    prime = True\n",
    "    for x in range(2,n):\n",
    "        if n % x == 0:\n",
    "            prime = False\n",
    "            break\n",
    "        if prime:\n",
    "            print(n, 'is a prime #')\n",
    "            pass\n",
    "        else:\n",
    "            n= n + 1\n",
    "            continue\n",
    "    n = n + 1"
   ]
  },
  {
   "cell_type": "markdown",
   "metadata": {
    "colab_type": "text",
    "id": "8sIJ4A57dHFk"
   },
   "source": [
    "<a id='module'> </a>\n",
    "## Functions\n",
    "def func_name(par1, par2,...): \n",
    "> body of code\n",
    " \n",
    " [top](#top)    \n",
    "    "
   ]
  },
  {
   "cell_type": "code",
   "execution_count": 0,
   "metadata": {
    "colab": {},
    "colab_type": "code",
    "id": "B5Hf5RZLdHFk"
   },
   "outputs": [],
   "source": [
    "#addition\n",
    "def my_add(x, y):\n",
    "    return x+y\n",
    "\n",
    "sum=my_add(3, 8); print(sum)"
   ]
  },
  {
   "cell_type": "code",
   "execution_count": 0,
   "metadata": {
    "colab": {},
    "colab_type": "code",
    "id": "5lyjqDO4dHFm"
   },
   "outputs": [],
   "source": [
    "#return multiple values\n",
    "def power(input):\n",
    "    return input**2, input**3\n",
    "\n",
    "square, cube = power(3)\n",
    "print(\"squre =\",square, \"cube =\",cube)"
   ]
  },
  {
   "cell_type": "markdown",
   "metadata": {
    "colab_type": "text",
    "id": "_73RPOcBdHFn"
   },
   "source": [
    "<a id='module'> </a>\n",
    "## Python Module\n",
    "* A python script with python functions and statements\n",
    "* Import a module before having access to all the functions within\n",
    "* Most Python distributions come with plenty of build-in modules \n",
    "***\n",
    " [top](#top)"
   ]
  },
  {
   "cell_type": "markdown",
   "metadata": {
    "colab_type": "text",
    "id": "h9s2tfPcdHFo"
   },
   "source": [
    "\n",
    "## Python Modules\n",
    "* math, sys, os..\n",
    "* NumPy, high performance in vector & matrix using vector computation \n",
    "* SciPy: based on Numpy, including many scientific algorithms.\n",
    "* padas\n",
    "* matplotlib, pyplot, pylab\n",
    "\n",
    "Reference to [Python3.x standard libraries](https://docs.python.org/3/library/) \n"
   ]
  },
  {
   "cell_type": "code",
   "execution_count": 0,
   "metadata": {
    "colab": {},
    "colab_type": "code",
    "id": "H9NB_NcNdHFo"
   },
   "outputs": [],
   "source": [
    "#import a module\n",
    "import math\n",
    "math.sin(math.pi)"
   ]
  },
  {
   "cell_type": "code",
   "execution_count": 0,
   "metadata": {
    "colab": {},
    "colab_type": "code",
    "id": "LZkg2iD_dHFq"
   },
   "outputs": [],
   "source": [
    "#get information of a module\n",
    "dir(math)"
   ]
  },
  {
   "cell_type": "code",
   "execution_count": 0,
   "metadata": {
    "colab": {},
    "colab_type": "code",
    "id": "m2CnZMlldHFs"
   },
   "outputs": [],
   "source": [
    "#get information\n",
    "help(math)"
   ]
  },
  {
   "cell_type": "code",
   "execution_count": 0,
   "metadata": {
    "colab": {},
    "colab_type": "code",
    "id": "fL7e1I0IdHFt",
    "raw_mimetype": "text/x-python"
   },
   "outputs": [],
   "source": [
    "# get information of a module function \n",
    "help(range)"
   ]
  },
  {
   "cell_type": "markdown",
   "metadata": {
    "colab_type": "text",
    "id": "vrDWNnt-dHFv"
   },
   "source": [
    " * Examples using os, commands modules\n",
    " * os: includes many functions interacting with the file system \n"
   ]
  },
  {
   "cell_type": "code",
   "execution_count": 0,
   "metadata": {
    "colab": {},
    "colab_type": "code",
    "id": "Hn34Cqtu3Zku"
   },
   "outputs": [],
   "source": [
    "import os\n",
    "!ls \n",
    "os.listdir()\n"
   ]
  },
  {
   "cell_type": "code",
   "execution_count": 0,
   "metadata": {
    "colab": {},
    "colab_type": "code",
    "id": "PVaDavH4dHFv"
   },
   "outputs": [],
   "source": [
    "\n",
    "def display_dir(dir):\n",
    "      files = os.listdir()\n",
    "      for fname in files:\n",
    "        print(fname)\n",
    "        print(os.path.abspath(os.path.join(dir, fname))) \n",
    "\n",
    "display_dir('/tmp')"
   ]
  },
  {
   "cell_type": "markdown",
   "metadata": {
    "colab_type": "text",
    "id": "zt4YHVYPdHGR"
   },
   "source": [
    "#### Data processing\n"
   ]
  },
  {
   "cell_type": "code",
   "execution_count": 0,
   "metadata": {
    "colab": {},
    "colab_type": "code",
    "id": "vkXjWnr_dHGZ"
   },
   "outputs": [],
   "source": [
    "# Plot a bar chart\n",
    "import matplotlib.pyplot as plt\n",
    "\n",
    "\n",
    "xlabeles = ['January','February','March','April']\n",
    "xticks = [i for i in range(len(xlabeles))]\n",
    "y = [ 34, 17, 13, 69]\n",
    "e = [5.2, 10., 1.5, 12.]\n",
    "plt.errorbar(xlabeles, y, yerr=e, fmt='d', capsize=10)\n",
    "plt.bar(xlabeles, y, 0.5, color='red' )\n",
    "plt.title(\"Sale by Month\")\n",
    "plt.xlabel('Month')\n",
    "plt.ylabel('Sale')\n",
    "plt.xticks(xticks, xlabeles)\n",
    "\n",
    "plt.show()"
   ]
  },
  {
   "cell_type": "markdown",
   "metadata": {
    "colab_type": "text",
    "id": "z-YuCy6W7r_f"
   },
   "source": [
    "# Examples:   Please solve the following problems:  (Feel free to ask for help)"
   ]
  },
  {
   "cell_type": "markdown",
   "metadata": {
    "colab_type": "text",
    "id": "qjp7hzS47u0F"
   },
   "source": [
    "Write a line of code to print the sum of 999 and 1600"
   ]
  },
  {
   "cell_type": "code",
   "execution_count": 0,
   "metadata": {
    "colab": {},
    "colab_type": "code",
    "id": "4ULjgwxwdHGe"
   },
   "outputs": [],
   "source": []
  },
  {
   "cell_type": "markdown",
   "metadata": {
    "colab_type": "text",
    "id": "656RSHJU8A6u"
   },
   "source": [
    "Write a line of code to print out your \"Hello Name\" where Name is your name."
   ]
  },
  {
   "cell_type": "code",
   "execution_count": 0,
   "metadata": {
    "colab": {},
    "colab_type": "code",
    "id": "Jgz-6j7R8Lkl"
   },
   "outputs": [],
   "source": []
  },
  {
   "cell_type": "markdown",
   "metadata": {
    "colab_type": "text",
    "id": "yFuPURle7zqJ"
   },
   "source": [
    "Write a code snippet to calculate the total of the shopping spree on Rodeo Dr. You bought:\n",
    "\n",
    "1 pair of shoes:  2400<br>\n",
    "1𝑝𝑎𝑖𝑟𝑜𝑓𝑠𝑙𝑎𝑐𝑘𝑠: 1500 1<br>\n",
    "ruby ring: $22000\n",
    "\n",
    "State and local tax is 22%.\n",
    "\n",
    "You want to print out the untaxed total, the amount of tax and the total of tax and goods."
   ]
  },
  {
   "cell_type": "code",
   "execution_count": 0,
   "metadata": {
    "colab": {},
    "colab_type": "code",
    "id": "pYMY_OUd73kz"
   },
   "outputs": [],
   "source": []
  },
  {
   "cell_type": "markdown",
   "metadata": {
    "colab_type": "text",
    "id": "m4IW9ndv74e4"
   },
   "source": [
    "Using the code you wrote above make the tax calculation a function block and the shopping total a function block"
   ]
  },
  {
   "cell_type": "code",
   "execution_count": 0,
   "metadata": {
    "colab": {},
    "colab_type": "code",
    "id": "N6o9yVbt778T"
   },
   "outputs": [],
   "source": []
  },
  {
   "cell_type": "markdown",
   "metadata": {
    "colab_type": "text",
    "id": "g-O1_Ffa78wV"
   },
   "source": [
    "**Create a leap year finder based on the following algorithm:\n",
    "\n",
    "Leap years occur according to the following formula: a leap year is divisible by four, but not by one hundred, unless it is divisible by four hundred. For example, 1992, 1996, and 2000 are leap years, but 1993 and 1900 are not. The next leap year that falls on a century will be 2400.\n",
    "\n",
    "Use the following list to check and see if your code is correct.  The list of leap years from 1900 to 2400 inclusive is:\n",
    "\n",
    "1904, 1908, 1912, 1916, 1920, 1924, 1928, 1932, 1936, 1940, 1944, 1948, 1952, 1956, 1960, 1964, 1968, 1972, 1976, 1980, 1984, 1988, 1992, 1996, 2000, 2004, 2008, 2012, 2016, 2020"
   ]
  },
  {
   "cell_type": "code",
   "execution_count": 0,
   "metadata": {
    "colab": {},
    "colab_type": "code",
    "id": "h0JhVFbH8g6h"
   },
   "outputs": [],
   "source": []
  },
  {
   "cell_type": "markdown",
   "metadata": {
    "colab_type": "text",
    "id": "6W1d-2RS0pp-"
   },
   "source": [
    "Using the code in the prime number example in the Control Structures section fix the code so it only prints out each prime number once."
   ]
  },
  {
   "cell_type": "code",
   "execution_count": 0,
   "metadata": {
    "colab": {},
    "colab_type": "code",
    "id": "laSeZK3R0oHZ"
   },
   "outputs": [],
   "source": []
  }
 ],
 "metadata": {
  "colab": {
   "collapsed_sections": [
    "sYQs3O-6dHFb",
    "8sIJ4A57dHFk",
    "_73RPOcBdHFn",
    "h9s2tfPcdHFo",
    "zt4YHVYPdHGR"
   ],
   "include_colab_link": true,
   "name": "Copy of intro-python-colab.ipynb",
   "provenance": [],
   "version": "0.3.2"
  },
  "kernelspec": {
   "display_name": "Python 3",
   "language": "python",
   "name": "python3"
  },
  "language_info": {
   "codemirror_mode": {
    "name": "ipython",
    "version": 3
   },
   "file_extension": ".py",
   "mimetype": "text/x-python",
   "name": "python",
   "nbconvert_exporter": "python",
   "pygments_lexer": "ipython3",
   "version": "3.6.8"
  }
 },
 "nbformat": 4,
 "nbformat_minor": 1
}
